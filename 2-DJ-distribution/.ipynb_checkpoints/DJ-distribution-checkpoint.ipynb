{
 "cells": [
  {
   "cell_type": "code",
   "execution_count": 1,
   "metadata": {},
   "outputs": [],
   "source": [
    "import plotly.plotly as py\n",
    "import pandas as pd\n",
    "\n",
    "df_c2c = pd.read_csv('reference/country2code.csv',\n",
    "    names=['country','country_code']\n",
    ").set_index('country')  #country2code.csv是转换器文件\n",
    "\n",
    "df_s = pd.read_csv(  \n",
    "    'reference/code&country.csv',names=['country_code','country']\n",
    ").set_index('country_code')  #这是完整且不重复的国家表，用于需要分国家的地图中，用于存储每一个国家的数据，s代表store\n",
    "\n",
    "def city2country(t):\n",
    "    return t.split(', ')[-1]\n",
    "\n",
    "def city2countrycode(t):\n",
    "    return df_c2c.loc[t.split(', ')[-1],'country_code']  #convert countries into codes\n",
    "\n",
    "def code2country(t):\n",
    "    return df_s.loc[t,'country']"
   ]
  },
  {
   "cell_type": "code",
   "execution_count": 2,
   "metadata": {},
   "outputs": [],
   "source": [
    "df_gh = pd.read_csv(\n",
    "    'reference/journalists-data-including-github-contributions.csv'\n",
    ")   #这是记者们的2008年以来每天的github contribution\n",
    "df_0d = df_gh.reindex(\n",
    "    ['name','institution','city','github'],axis=1\n",
    ")   #这是去除github contribution后的记者信息\n",
    "df_0d['country'] = df_gh['city'].apply(city2country)\n",
    "df_0d['country_code'] = df_gh['city'].apply(city2countrycode)  #将所有记者的country转化为code\n",
    "df_0d['contribution_sum'] = df_gh.iloc[:,4:].aggregate('sum',axis=1).astype(\"int\")\n",
    "df_0d['name & country'] = df_0d['name'] + '(' + df_0d['country'] + ')'\n",
    "    #这是转置后纯粹的时间信息"
   ]
  },
  {
   "cell_type": "code",
   "execution_count": 3,
   "metadata": {},
   "outputs": [],
   "source": [
    "#2008以来各国contribution的总数\n",
    "\n",
    "df_contribution_sum = pd.pivot_table(\n",
    "    df_0d,index=['country_code'],values=['contribution_sum'],aggfunc='sum'\n",
    "    ) #通过pivot_table获得journalist_count对应国家的contribution\n",
    "#2008以来各国数据新闻记者的总数\n",
    "df_journalist_amount = pd.pivot_table(\n",
    "    df_0d,index=['country_code'],values=['contribution_sum'],aggfunc='count'\n",
    "    ).rename(columns={'contribution_sum':'count'})   #通过pivot_table获得journalist_count对应记者数量\n",
    "df_mean = pd.pivot_table(\n",
    "    df_0d,index=['country_code'],values=['contribution_sum'],aggfunc='mean',\n",
    "    ).rename(columns={'contribution_sum':'mean'}) \n",
    "df_max= pd.pivot_table(\n",
    "    df_0d,index=['country_code'],values=['contribution_sum'],aggfunc='max',\n",
    "    ).rename(columns={'contribution_sum':'max'}) \n",
    "df_code_country_data_c = df_s.join(df_contribution_sum, on='country_code').fillna(0) \n",
    "df_code_country_data_j = df_s.join(df_journalist_amount, on='country_code').fillna(0) \n",
    "df_code_country_data_r = df_s.join(df_mean, on = 'country_code').fillna(0) \n",
    "df_code_country_data_m = df_s.join(df_max, on = 'country_code').fillna(0) \n",
    "\n",
    "# df_code_country_data_j[df_code_country_data_j['journalist_count'] != 0].shape[0]\n",
    "df_code_country_data=pd.merge(\n",
    "    pd.merge(\n",
    "        df_code_country_data_c, df_code_country_data_j, how='inner'\n",
    "    ),df_code_country_data_r, how='inner')"
   ]
  },
  {
   "cell_type": "code",
   "execution_count": 4,
   "metadata": {},
   "outputs": [
    {
     "data": {
      "text/html": [
       "<iframe id=\"igraph\" scrolling=\"no\" style=\"border:none;\" seamless=\"seamless\" src=\"https://plot.ly/~FLYSTEPHEN/55.embed\" height=\"525px\" width=\"100%\"></iframe>"
      ],
      "text/plain": [
       "<plotly.tools.PlotlyDisplay object>"
      ]
     },
     "execution_count": 4,
     "metadata": {},
     "output_type": "execute_result"
    }
   ],
   "source": [
    "backcolor = '#f9f9f9'\n",
    "def paint_world_map_choropleth(title,locations,z,ztitle,filename):\n",
    "    data = [ dict(\n",
    "            type = 'choropleth',\n",
    "            locations = locations,  #重要！國家代碼，可使用上面的方法把國家名轉化為代碼\n",
    "            z = z,  #重要！數據\n",
    "            text = text,  #重要！國家名，此處因為使用了dataframe的數據，因此所有項目都是一一對應關係\n",
    "            colorscale = [[0,\"rgb(0, 30, 155)\"],[0.1,\"rgb(15, 45, 165)\"],[0.2,\"rgb(30, 60, 175)\"],\n",
    "                          [0.3,\"rgb(45, 75, 185)\"],[0.4,\"rgb(60, 90, 195)\"],[0.5,\"rgb(75, 105, 205)\"],\n",
    "                          [0.6,\"rgb(90, 120, 215)\"],[0.7,\"rgb(115, 145, 225)\"],[0.8,\"rgb(140, 170, 235)\"],\n",
    "                          [0.9,\"rgb(165, 195, 245)\"],[1,\"rgb(255, 255, 255)\"]],  #深淺變化\n",
    "            autocolorscale = False,  #深淺變化不符合審美，建議False\n",
    "            reversescale = True,  #此項根據上面colorscale，設為True\n",
    "            marker = dict(  #設置國界線\n",
    "                line = dict (\n",
    "                    color = 'rgb(180,180,180)',\n",
    "                    width = 0.5\n",
    "                ) ),\n",
    "            colorbar = dict(\n",
    "                thickness = 5,\n",
    "                autotick = True,\n",
    "                title = ztitle),  #重要！數據的单位\n",
    "          ) ]\n",
    "\n",
    "    layout = dict(\n",
    "        title = title,  #設置標題\n",
    "        geo = dict(\n",
    "            showframe = False,  #設置有無地圖大邊框\n",
    "            showcoastlines = False,  #設置有無海岸線\n",
    "            showocean = True,\n",
    "            oceancolor = backcolor,\n",
    "            scope = \"world\",\n",
    "            projection = dict(\n",
    "                type =  \"equirectangular\")),\n",
    "        plot_bgcolor=backcolor,paper_bgcolor=backcolor\n",
    "    )\n",
    "    fig = dict( data=data, layout=layout,  )\n",
    "    return py.iplot( fig, validate=False, filename=filename,)  #重要！设置网上存储的地图名（全部一样地图会被最后一个执行的覆盖掉）\n",
    "\n",
    "locations = list(df_code_country_data_j.index)\n",
    "text = list(df_code_country_data_j['country'])\n",
    "z = list(df_code_country_data_j['count'])\n",
    "ztitle = 'DJ amount'\n",
    "title = 'Global Data Journalists Distribution<br>Source:\\\n",
    "                <a href=\"http://jplusplus.github.io/global-directory/\">\\\n",
    "                Global Data Journalist Directory</a>'\n",
    "filename = title.split('<br>')[0]\n",
    "\n",
    "paint_world_map_choropleth(title,locations,z,ztitle,filename)"
   ]
  },
  {
   "cell_type": "markdown",
   "metadata": {},
   "source": [
    "type ( enumerated : \"equirectangular\" | \"mercator\" | \"orthographic\" | \"natural earth\" | \"kavrayskiy7\" | \"miller\" | \"robinson\" | \"eckert4\" | \"azimuthal equal area\" | \"azimuthal equidistant\" | \"conic equal area\" | \"conic conformal\" | \"conic equidistant\" | \"gnomonic\" | \"stereographic\" | \"mollweide\" | \"hammer\" | \"transverse mercator\" | \"albers usa\" | \"winkel tripel\" | \"aitoff\" | \"sinusoidal\" ) "
   ]
  },
  {
   "cell_type": "markdown",
   "metadata": {},
   "source": [
    "Most of the data journalist are living in North America and Europe. There is also a trend of DJ in South America."
   ]
  },
  {
   "cell_type": "code",
   "execution_count": 5,
   "metadata": {},
   "outputs": [
    {
     "data": {
      "text/html": [
       "<iframe id=\"igraph\" scrolling=\"no\" style=\"border:none;\" seamless=\"seamless\" src=\"https://plot.ly/~FLYSTEPHEN/49.embed\" height=\"525px\" width=\"100%\"></iframe>"
      ],
      "text/plain": [
       "<plotly.tools.PlotlyDisplay object>"
      ]
     },
     "execution_count": 5,
     "metadata": {},
     "output_type": "execute_result"
    }
   ],
   "source": [
    "backcolor = '#f9f9f9'\n",
    "def paint_world_map_choropleth(title,locations,z,ztitle,filename):\n",
    "    data = [ dict(\n",
    "            type = 'choropleth',\n",
    "            locations = locations,  #重要！國家代碼，可使用上面的方法把國家名轉化為代碼\n",
    "            z = z,  #重要！數據\n",
    "            text = text,  #重要！國家名，此處因為使用了dataframe的數據，因此所有項目都是一一對應關係\n",
    "            colorscale = [[0,\"rgb(0, 30, 155)\"],[0.1,\"rgb(15, 45, 165)\"],[0.2,\"rgb(30, 60, 175)\"],\n",
    "                          [0.3,\"rgb(45, 75, 185)\"],[0.4,\"rgb(60, 90, 195)\"],[0.5,\"rgb(75, 105, 205)\"],\n",
    "                          [0.6,\"rgb(90, 120, 215)\"],[0.7,\"rgb(115, 145, 225)\"],[0.8,\"rgb(140, 170, 235)\"],\n",
    "                          [0.9,\"rgb(165, 195, 245)\"],[1,\"rgb(255, 255, 255)\"]],  #深淺變化\n",
    "            autocolorscale = False,  #深淺變化不符合審美，建議False\n",
    "            reversescale = True,  #此項根據上面colorscale，設為True\n",
    "            marker = dict(  #設置國界線\n",
    "                line = dict (\n",
    "                    color = 'rgb(180,180,180)',\n",
    "                    width = 0.5\n",
    "                ) ),\n",
    "            colorbar = dict(\n",
    "                autotick = True,\n",
    "                thickness = 5,\n",
    "                title = ztitle),  #重要！數據的单位\n",
    "          ) ]\n",
    "\n",
    "    layout = dict(\n",
    "        title = title,  #設置標題\n",
    "        geo = dict(\n",
    "            showframe = False,  #設置有無地圖大邊框\n",
    "            showcoastlines = False,  #設置有無海岸線\n",
    "            showocean = True,\n",
    "            oceancolor = backcolor,\n",
    "            projection = dict(\n",
    "                type = 'equirectangular'\n",
    "            )\n",
    "        ),plot_bgcolor=backcolor,paper_bgcolor=backcolor\n",
    "    )\n",
    "\n",
    "    fig = dict( data=data, layout=layout )\n",
    "    return py.iplot( fig, validate=False, filename=filename)  #重要！设置网上存储的地图名（全部一样地图会被最后一个执行的覆盖掉）\n",
    "\n",
    "locations = list(df_code_country_data_r.index)\n",
    "text = list(df_code_country_data_r['country'])\n",
    "z = list(df_code_country_data_r['mean'])\n",
    "ztitle = 'amount'\n",
    "title = 'Global Data Journalist<br>Github Contribution per capita<br>Source:\\\n",
    "                <a href=\"http://jplusplus.github.io/global-directory/\">\\\n",
    "                Global Data Journalist Directory</a>'\n",
    "filename = title.split('<br>')[0]\n",
    "\n",
    "paint_world_map_choropleth(title,locations,z,ztitle,filename)"
   ]
  }
 ],
 "metadata": {
  "kernelspec": {
   "display_name": "Python 3",
   "language": "python",
   "name": "python3"
  },
  "language_info": {
   "codemirror_mode": {
    "name": "ipython",
    "version": 3
   },
   "file_extension": ".py",
   "mimetype": "text/x-python",
   "name": "python",
   "nbconvert_exporter": "python",
   "pygments_lexer": "ipython3",
   "version": "3.7.0"
  }
 },
 "nbformat": 4,
 "nbformat_minor": 2
}
