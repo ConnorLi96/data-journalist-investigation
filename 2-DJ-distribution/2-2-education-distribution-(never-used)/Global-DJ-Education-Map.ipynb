{
 "cells": [
  {
   "cell_type": "code",
   "execution_count": 2,
   "metadata": {},
   "outputs": [],
   "source": [
    "import pandas as pd\n",
    "import numpy as np\n",
    "df_edu = pd.read_csv('reference/Education.csv')\n",
    "df_edu['Text'] = '<br>Organisation:<br>' + df_edu['Organisation'].astype(str)\\\n",
    "+ '<br>School/sub-org:<br>' + df_edu['school/sub-org'].astype(str)\\\n",
    "+ '<br>Country:<br>' + df_edu['Country'].astype(str)\\\n",
    "+ '<br>Full programme / Module:<br>' + df_edu['Full programme / Module'].astype(str)\\\n",
    "+ '<br>Level:<br>' + df_edu['Level'].astype(str)\\"
   ]
  },
  {
   "cell_type": "code",
   "execution_count": 11,
   "metadata": {},
   "outputs": [
    {
     "data": {
      "text/html": [
       "<iframe id=\"igraph\" scrolling=\"no\" style=\"border:none;\" seamless=\"seamless\" src=\"https://plot.ly/~FLYSTEPHEN/31.embed\" height=\"525px\" width=\"100%\"></iframe>"
      ],
      "text/plain": [
       "<plotly.tools.PlotlyDisplay object>"
      ]
     },
     "execution_count": 11,
     "metadata": {},
     "output_type": "execute_result"
    }
   ],
   "source": [
    "#Use plotly to visualize the map\n",
    "import plotly.plotly as py\n",
    "\n",
    "data = [ dict(\n",
    "        type = 'scattergeo',\n",
    "        locationmode = 'ISO-3',\n",
    "        lon = df_edu['Long'],  #\n",
    "        lat = df_edu['Lat'],  #\n",
    "        text = df_edu['Text'],  #\n",
    "        mode = 'markers',\n",
    "        marker = dict(\n",
    "            size = 5,\n",
    "            opacity = 0.5,\n",
    "            symbol = 'square',\n",
    "        ))]\n",
    "\n",
    "layout = dict(\n",
    "        title = 'Global DJ Education Map<br>Source:\\\n",
    "                <a href=\"https://medium.com/ucd-ischool/where-in-the-world-can-i-study-data-journalism-44c006e55ea5\">\\\n",
    "                UCD iSchool</a>',\n",
    "        colorbar = True,\n",
    "        geo = dict(\n",
    "#             如果想只看usa的state的情况，执行这里的注释\n",
    "#             scope='usa',\n",
    "#             projection=dict( type='albers usa' ),\n",
    "#             showlakes = True,\n",
    "            showcountries = True,\n",
    "            showcoastlines = False,\n",
    "            landcolor = \"rgb(250, 250, 250)\",\n",
    "            showframe = False,\n",
    "            countrywidth = 0.5,\n",
    "            subunitwidth = 0.5\n",
    "        ),\n",
    "    )\n",
    "\n",
    "fig = dict( data=data, layout=layout )\n",
    "py.iplot( fig, validate=False, filename='Map3: Global DJ Education Plot Map' )"
   ]
  },
  {
   "cell_type": "code",
   "execution_count": 21,
   "metadata": {},
   "outputs": [
    {
     "data": {
      "text/html": [
       "<iframe id=\"igraph\" scrolling=\"no\" style=\"border:none;\" seamless=\"seamless\" src=\"https://plot.ly/~FLYSTEPHEN/41.embed\" height=\"525px\" width=\"100%\"></iframe>"
      ],
      "text/plain": [
       "<plotly.tools.PlotlyDisplay object>"
      ]
     },
     "execution_count": 21,
     "metadata": {},
     "output_type": "execute_result"
    }
   ],
   "source": [
    "#Use plotly to visualize the map\n",
    "import plotly.plotly as py\n",
    "\n",
    "data = [ dict(\n",
    "        type = 'scattergeo',\n",
    "        locationmode = 'ISO-3',\n",
    "        lon = df_edu['Long'],  #\n",
    "        lat = df_edu['Lat'],  #\n",
    "        text = df_edu['Text'],  #\n",
    "        mode = 'markers',\n",
    "        marker = dict(\n",
    "            size = 10,\n",
    "            opacity = 0.5,\n",
    "            symbol = 'square',\n",
    "            line = dict(\n",
    "                width=1,\n",
    "                color='rgba(102, 102, 102)'\n",
    "            )))]\n",
    "\n",
    "layout = dict(\n",
    "        title = 'U.S DJ Education Map<br>Source:\\\n",
    "                <a href=\"https://medium.com/ucd-ischool/where-in-the-world-can-i-study-data-journalism-44c006e55ea5\">\\\n",
    "                UCD iSchool</a>',\n",
    "        colorbar = True,\n",
    "        geo = dict(\n",
    "            scope='usa',\n",
    "            projection=dict( type='albers usa' ),\n",
    "            showland = True,\n",
    "            landcolor = \"rgb(250, 250, 250)\",\n",
    "            subunitcolor = \"rgb(217, 217, 217)\",\n",
    "            countrycolor = \"rgb(217, 217, 217)\",\n",
    "            countrywidth = 0.5,\n",
    "            subunitwidth = 0.5\n",
    "        ),\n",
    "    )\n",
    "\n",
    "fig = dict( data=data, layout=layout )\n",
    "py.iplot( fig, validate=False, filename='U.S DJ Education Plot Map' )"
   ]
  },
  {
   "cell_type": "code",
   "execution_count": 3,
   "metadata": {},
   "outputs": [
    {
     "data": {
      "text/html": [
       "<iframe id=\"igraph\" scrolling=\"no\" style=\"border:none;\" seamless=\"seamless\" src=\"https://plot.ly/~FLYSTEPHEN/33.embed\" height=\"525px\" width=\"100%\"></iframe>"
      ],
      "text/plain": [
       "<plotly.tools.PlotlyDisplay object>"
      ]
     },
     "execution_count": 3,
     "metadata": {},
     "output_type": "execute_result"
    }
   ],
   "source": [
    "import plotly.plotly as py\n",
    "import pandas as pd\n",
    "\n",
    "df_c2c = pd.read_csv('reference/country2code.csv',\n",
    "    names=['country','country_code']\n",
    ").set_index('country')  #country2code.csv是转换器文件\n",
    "\n",
    "df_s = pd.read_csv(  \n",
    "    'reference/code&country.csv',\n",
    "    names=['country_code','country']\n",
    ").set_index('country_code')\n",
    "\n",
    "def city2countrycode(t):\n",
    "    return df_c2c.loc[t,'country_code']\n",
    "\n",
    "df_edu = pd.read_csv('reference/Education.csv')\n",
    "df_edu['country_code'] = df_edu['Country'].apply(city2countrycode)\n",
    "df_edu_c = df_edu.groupby('country_code').aggregate('count').loc[:,'ID']\n",
    "df_code_country_data_e = df_s.join(df_edu_c).fillna(0) \n",
    "\n",
    "\n",
    "data = [ dict(\n",
    "        type = 'choropleth',\n",
    "        locations = list(df_code_country_data_e.index),  #重要！國家代碼，可使用上面的方法把國家名轉化為代碼\n",
    "        z = df_code_country_data_e['ID'],  #重要！數據\n",
    "        text = df_code_country_data_e['country'],  #重要！國家名，此處因為使用了dataframe的數據，因此所有項目都是一一對應關係\n",
    "        colorscale = [[0,\"rgb(0, 30, 155)\"],[0.1,\"rgb(15, 45, 165)\"],[0.2,\"rgb(30, 60, 175)\"],\n",
    "                      [0.3,\"rgb(45, 75, 185)\"],[0.4,\"rgb(60, 90, 195)\"],[0.5,\"rgb(75, 105, 205)\"],\n",
    "                      [0.6,\"rgb(90, 120, 215)\"],[0.7,\"rgb(115, 145, 225)\"],[0.8,\"rgb(140, 170, 235)\"],\n",
    "                      [0.9,\"rgb(165, 195, 245)\"],[1,\"rgb(255, 255, 255)\"]],  #深淺變化\n",
    "        autocolorscale = False,  #深淺變化不符合審美，建議False\n",
    "        reversescale = True,  #此項根據上面colorscale，設為True\n",
    "        marker = dict(  #設置國界線\n",
    "            line = dict (\n",
    "                color = 'rgb(180,180,180)',\n",
    "                width = 0.5\n",
    "            ) ),\n",
    "        colorbar = dict(\n",
    "            autotick = True,\n",
    "            title = 'Amount'),  #重要！數據的单位\n",
    "      ) ]\n",
    "\n",
    "layout = dict(\n",
    "    title = 'Global DJ Education Choropleth Map<br>Source:\\\n",
    "                <a href=\"https://medium.com/ucd-ischool/where-in-the-world-can-i-study-data-journalism-44c006e55ea5\">\\\n",
    "                UCD iSchool</a>',  #設置標題\n",
    "    geo = dict(\n",
    "        showframe = False,  #設置有無地圖大邊框\n",
    "        showcoastlines = False,  #設置有無海岸線\n",
    "        projection = dict(\n",
    "            type = 'Mercator'\n",
    "        )\n",
    "    )\n",
    ")\n",
    "\n",
    "fig = dict( data=data, layout=layout )\n",
    "py.iplot( fig, validate=False, filename='Global DJ Education Choropleth Map')"
   ]
  }
 ],
 "metadata": {
  "kernelspec": {
   "display_name": "Python 3",
   "language": "python",
   "name": "python3"
  },
  "language_info": {
   "codemirror_mode": {
    "name": "ipython",
    "version": 3
   },
   "file_extension": ".py",
   "mimetype": "text/x-python",
   "name": "python",
   "nbconvert_exporter": "python",
   "pygments_lexer": "ipython3",
   "version": "3.7.0"
  }
 },
 "nbformat": 4,
 "nbformat_minor": 2
}
